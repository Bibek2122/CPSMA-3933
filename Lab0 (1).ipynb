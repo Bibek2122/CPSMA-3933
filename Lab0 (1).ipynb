{
 "cells": [
  {
   "cell_type": "markdown",
   "id": "5c9e8d01-cf08-4af6-b564-a37dcd068b4f",
   "metadata": {
    "jp-MarkdownHeadingCollapsed": true
   },
   "source": [
    " CPSMA 3933\n",
    " Computer Lab #0\n",
    " Name: Bibek Thapa \n",
    " Due: Tuesday, September 2nd, 2025  \n",
    "\n",
    "This notebook contains the solutions for Lab #0.  \n",
    "It includes Markdown explanations, Python code, and outputs.\n"
   ]
  },
  {
   "cell_type": "markdown",
   "id": "926b517e-2acd-450a-ad45-d1c465ed623c",
   "metadata": {},
   "source": [
    " GitHub Repository\n",
    "I created a GitHub repository named \"cpsma3933-labs\" to store all assignments for this class.  \n",
    "This notebook (`Lab0.ipynb`) will be uploaded there after completion.  \n",
    " My Favorite Function\n",
    "My favorite function is `len()`.  \n",
    "I like it because it is very simple but powerful.  \n",
    "It quickly tells me how many items are in a list, string, or other collection.  \n",
    "Instead of counting manually, I can use `len()` to save time and avoid mistakes. I \n",
    "\n"
   ]
  },
  {
   "cell_type": "code",
   "execution_count": 3,
   "id": "03df1298-ff76-4295-bdc0-306a1f24e598",
   "metadata": {},
   "outputs": [
    {
     "name": "stdout",
     "output_type": "stream",
     "text": [
      "The assignment is: Lab 0\n",
      "The length of the word is: 5\n"
     ]
    }
   ],
   "source": [
    "# Example: length of a string\n",
    "word = \"Lab 0\"\n",
    "print(\"The assignment is:\", word)\n",
    "print(\"The length of the word is:\", len(word))\n"
   ]
  },
  {
   "cell_type": "markdown",
   "id": "c0035c7f-36fa-4f58-b14d-2546eb5160d6",
   "metadata": {},
   "source": [
    " Creative List\n",
    "I took a sentence and used the `len()` function to find the length of each word.  \n",
    "This makes the list more unique because the values come from text instead of random numbers.  \n"
   ]
  },
  {
   "cell_type": "code",
   "execution_count": 7,
   "id": "504edbe5-3315-45e5-bf51-f2f499b7cb04",
   "metadata": {},
   "outputs": [
    {
     "name": "stdout",
     "output_type": "stream",
     "text": [
      "Word Lengths: [5, 4, 5, 11, 3]\n",
      "Sum: 28\n",
      "Minimum: 3\n",
      "Maximum: 11\n",
      "Average: 5.6\n"
     ]
    }
   ],
   "source": [
    "sentence = \"CPSMA 3933 makes programming fun\"\n",
    "word_lengths = [len(word) for word in sentence.split()]\n",
    "print(\"Word Lengths:\", word_lengths)\n",
    "\n",
    "print(\"Sum:\", sum(word_lengths))\n",
    "print(\"Minimum:\", min(word_lengths))\n",
    "print(\"Maximum:\", max(word_lengths))\n",
    "print(\"Average:\", sum(word_lengths) / len(word_lengths))\n"
   ]
  },
  {
   "cell_type": "markdown",
   "id": "1d8a8e4e-cd98-4412-b842-2b1d61075797",
   "metadata": {},
   "source": [
    "Submitting the assignment\n",
    "After saving and uploading my notebook (`Lab0.ipynb`) to GitHub, I copied the repository link and submitted it in the Blackboard assignment module.  \n"
   ]
  }
 ],
 "metadata": {
  "kernelspec": {
   "display_name": "Python [conda env:base] *",
   "language": "python",
   "name": "conda-base-py"
  },
  "language_info": {
   "codemirror_mode": {
    "name": "ipython",
    "version": 3
   },
   "file_extension": ".py",
   "mimetype": "text/x-python",
   "name": "python",
   "nbconvert_exporter": "python",
   "pygments_lexer": "ipython3",
   "version": "3.12.7"
  }
 },
 "nbformat": 4,
 "nbformat_minor": 5
}
