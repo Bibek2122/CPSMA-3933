{
 "cells": [
  {
   "cell_type": "markdown",
   "id": "3ab1dff2-c284-4b60-8cef-0ec2b458e71a",
   "metadata": {},
   "source": []
  },
  {
   "cell_type": "code",
   "execution_count": 11,
   "id": "d52e840e-3613-4c30-bb59-c6567a452eaf",
   "metadata": {},
   "outputs": [
    {
     "name": "stdout",
     "output_type": "stream",
     "text": [
      "1000 factorial = 402387260077093773543702433923003985719374864210714632543799910429938512398629020592044208486969404800479988610197196058631666872994808558901323829669944590997424504087073759918823627727188732519779505950995276120874975462497043601418278094646496291056393887437886487337119181045825783647849977012476632889835955735432513185323958463075557409114262417474349347553428646576611667797396668820291207379143853719588249808126867838374559731746136085379534524221586593201928090878297308431392844403281231558611036976801357304216168747609675871348312025478589320767169132448426236131412508780208000261683151027341827977704784635868170164365024153691398281264810213092761244896359928705114964975419909342221566832572080821333186116811553615836546984046708975602900950537616475847728421889679646244945160765353408198901385442487984959953319101723355556602139450399736280750137837615307127761926849034352625200015888535147331611702103968175921510907788019393178114194545257223865541461062892187960223838971476088506276862967146674697562911234082439208160153780889893964518263243671616762179168909779911903754031274622289988005195444414282012187361745992642956581746628302955570299024324153181617210465832036786906117260158783520751516284225540265170483304226143974286933061690897968482590125458327168226458066526769958652682272807075781391858178889652208164348344825993266043367660176999612831860788386150279465955131156552036093988180612138558600301435694527224206344631797460594682573103790084024432438465657245014402821885252470935190620929023136493273497565513958720559654228749774011413346962715422845862377387538230483865688976461927383814900140767310446640259899490222221765904339901886018566526485061799702356193897017860040811889729918311021171229845901641921068884387121855646124960798722908519296819372388642614839657382291123125024186649353143970137428531926649875337218940694281434118520158014123344828015051399694290153483077644569099073152433278288269864602789864321139083506217095002597389863554277196742822248757586765752344220207573630569498825087968928162753848863396909959826280956121450994871701244516461260379029309120889086942028510640182154399457156805941872748998094254742173582401063677404595741785160829230135358081840096996372524230560855903700624271243416909004153690105933983835777939410970027753472000000000000000000000000000000000000000000000000000000000000000000000000000000000000000000000000000000000000000000000000000000000000000000000000000000000000000000000000000000000000000000000000000000000000000000000000000000000000000000000000000000000\n",
      "Number of trailing zeros in 1000 factorial: 249\n",
      "Verified by counting: 249 trailing zeros\n"
     ]
    }
   ],
   "source": [
    "import math\n",
    "\n",
    "# Calculating 1000 factorial\n",
    "result = math.factorial(1000)\n",
    "print(f\"1000 factorial = {result}\")\n",
    "\n",
    "# Counting trailing zeros\n",
    "def count_trailing_zeros(n):\n",
    "    count = 0\n",
    "    power_of_5 = 5\n",
    "    while power_of_5 <= n:\n",
    "        count += n // power_of_5\n",
    "        power_of_5 *= 5\n",
    "    return count\n",
    "\n",
    "zeros = count_trailing_zeros(1000)\n",
    "print(f\"Number of trailing zeros in 1000 factorial: {zeros}\")\n",
    "\n",
    "# Verifying by converting to string and counting zeros from the end\n",
    "result_str = str(result)\n",
    "trailing_zeros_count = 0\n",
    "for i in range(len(result_str) - 1, -1, -1):\n",
    "    if result_str[i] == '0':\n",
    "        trailing_zeros_count += 1\n",
    "    else:\n",
    "        break\n",
    "\n",
    "print(f\"Verified by counting: {trailing_zeros_count} trailing zeros\")"
   ]
  },
  {
   "cell_type": "markdown",
   "id": "ad53cbb4-6c9d-43fc-9cec-dd6418ea7c06",
   "metadata": {},
   "source": [
    "Ans no 1.\n",
    "To find how many zeros 1000! ends with, I need to count the number of times 10 divides into 1000!. Since 10 = 2 × 5, and there are always more factors of 2 than 5 in a factorial, I need to count the factors of 5.\n",
    "The formula is: ⌊n/5⌋ + ⌊n/25⌋ + ⌊n/125⌋ + ⌊n/625⌋ + ...\n",
    "For 1000!:\n",
    "\n",
    "  ⌊1000/5⌋ = 200\n",
    " ⌊1000/25⌋ = 40\n",
    "  ⌊1000/125⌋ = 8\n",
    "  ⌊1000/625⌋ = 1\n",
    "   ⌊1000/3125⌋ = 0\n",
    "\n",
    "Total: 200 + 40 + 8 + 1 = 249, \n"
   ]
  },
  {
   "cell_type": "code",
   "execution_count": 7,
   "id": "f4e9472d-f058-4e1b-a911-013a60edef00",
   "metadata": {},
   "outputs": [
    {
     "name": "stdout",
     "output_type": "stream",
     "text": [
      "100^13 - 26 = 99999999999999999999999974\n",
      "Sum of digits: 227\n",
      "Manual check: 24×9 + 7 + 4 = 227\n"
     ]
    }
   ],
   "source": [
    "# Calculating 100^13 - 26\n",
    "number = 100**13 - 26\n",
    "print(f\"100^13 - 26 = {number}\")\n",
    "\n",
    "# Sum of digits\n",
    "digit_sum = sum(int(digit) for digit in str(number))\n",
    "print(f\"Sum of digits: {digit_sum}\")\n",
    "\n",
    "# Verifying the calculation\n",
    "print(f\"Manual check: 24×9 + 7 + 4 = {24*9 + 7 + 4}\")\n"
   ]
  },
  {
   "cell_type": "markdown",
   "id": "48e15181-17a7-42d3-b04e-816c34401d9e",
   "metadata": {},
   "source": [
    "Ans no 2.\n",
    " It's 100^13 - 26,\n",
    "Let me calculate this correctly:\n",
    "100^13 = (10^2)^13 = 10^26\n",
    "   10^26 = 1 followed by 26 zeros = 100000000000000000000000000\n",
    "   100^13 - 26 = 100,000,000,000,000,000,000,000,000 - 26\n",
    "     = 99,999,999,999,999,999,999,999,974\n",
    "This number has:\n",
    "Twenty-four 9's\n",
    "One 7 One 4\n",
    "\n",
    "Sum of digits = 24 × 9 + 7 + 4 = 216 + 7 + 4 = 227\n",
    "Answer: 227"
   ]
  },
  {
   "cell_type": "code",
   "execution_count": 5,
   "id": "a7baed1c-574f-43c4-8c72-8646e55f7e67",
   "metadata": {},
   "outputs": [
    {
     "name": "stdout",
     "output_type": "stream",
     "text": [
      "Total handshakes: 176\n"
     ]
    }
   ],
   "source": [
    "# Problem 3: Soccer Teams Handshakes\n",
    "between_teams = 11 * 11\n",
    "within_team = 11 * 10 // 2\n",
    "total = between_teams + within_team\n",
    "print(f\"Total handshakes: {total}\")"
   ]
  },
  {
   "cell_type": "markdown",
   "id": "9bf8a489-71b6-47d3-a074-5896eebc6e16",
   "metadata": {},
   "source": [
    "Ans no 3 \n",
    "Handshakes:\n",
    "Each team has 11 players, so there are 22 people total.\n",
    "\n",
    "      Between the two teams: 11 × 11 = 121 handshakes\n",
    "Within the winning team: C(11,2) = 11×10/2 = 55 handshakes (1st player will do 10, 2nd will do 8.... and it goes on till 1)\n",
    "Total: 121 + 55 = 176 handshakes\n",
    "\n"
   ]
  },
  {
   "cell_type": "code",
   "execution_count": null,
   "id": "6a4d4ee1-d1bc-4937-8c0d-b64b401778fe",
   "metadata": {},
   "outputs": [],
   "source": [
    "# Problem 4\n",
    "Total people\n",
    "people = 10  \n",
    "\n",
    "# Possible handshakes for one person (0 to 8)\n",
    "handshakes = list(range(9))  \n",
    "\n",
    "# One number must be left for Mr. Smith\n",
    "mr_smith = 4  \n",
    "\n",
    "print(\"Handshakes reported by guests:\", handshakes)\n",
    "print(\"Mr. Smith shook\", mr_smith, \"hands\")\n"
   ]
  },
  {
   "cell_type": "code",
   "execution_count": null,
   "id": "a5f4d7e0-04f2-4c37-b1bb-9a0e47174058",
   "metadata": {},
   "outputs": [],
   "source": [
    "Harder Handshakes:\n",
    "There are 10 people total (5 couples).\n",
    "      Since Mr. Smith received a different answer from each person, and there are 9 other people, the possible answers can be 0, 1, 2, 3, 4, 5, 6, 7, 8.\n",
    " No one shakes hands with their spouse, the maximum anyone can shake is 8 hands.\n",
    "If someone shook 8 hands, their spouse shook 0 hands (since they can't shake the same people).\n",
    "If someone shook 7 hands, their spouse shook 1 hand.\n",
    "And so on...\n",
    "The pairs are: (0,8), (1,7), (2,6), (3,5), and one person with 4 handshakes.\n",
    "Since Mrs. Smith is the only one unaccounted for, she shook 4 hands.\n",
    "Answer: Mr. Smith shook hands 4 times."
   ]
  }
 ],
 "metadata": {
  "kernelspec": {
   "display_name": "Python [conda env:base] *",
   "language": "python",
   "name": "conda-base-py"
  },
  "language_info": {
   "codemirror_mode": {
    "name": "ipython",
    "version": 3
   },
   "file_extension": ".py",
   "mimetype": "text/x-python",
   "name": "python",
   "nbconvert_exporter": "python",
   "pygments_lexer": "ipython3",
   "version": "3.12.7"
  }
 },
 "nbformat": 4,
 "nbformat_minor": 5
}
