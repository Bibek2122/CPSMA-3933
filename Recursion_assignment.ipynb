{
 "cells": [
  {
   "cell_type": "markdown",
   "id": "b4543fc7-de25-47d4-89c5-9126b1d3f291",
   "metadata": {},
   "source": [
    "Analytic math solution:\n",
    "\n",
    "Step 1: Write the homogeneous part (we can ignore +3n for now to solve it later)\n",
    "a(n) - a(n-1) - 6*a(n-2) = 0\n",
    "\n",
    "Step 2: Find the characteristic equation\n",
    "r^2 - r - 6 = 0\n",
    "\n",
    "Step 3: Solve for r\n",
    "(r - 3)(r + 2) = 0  \n",
    "So r1 = 3 and r2 = -2\n",
    "\n",
    "Step 4: Write the homogeneous solution\n",
    "a_h(n) = A*(3^n) + B*((-2)^n)\n",
    "\n",
    "Step 5: Guess a particular solution for +3n\n",
    "Because the non-homogeneous part is linear (3n), we try:\n",
    "a_p(n) = C*n + D\n",
    "\n",
    "Step 6: Substitute a_p(n) = C*n + D into the original equation\n",
    "Left side: a_p(n) = C*n + D  \n",
    "Right side: a_p(n-1) + 6*a_p(n-2) + 3n  \n",
    "= C*(n-1) + D + 6*(C*(n-2) + D) + 3n  \n",
    "Simplify:\n",
    "= 7*C*n - 13*C + 7*D + 3n\n",
    "\n",
    "Now comparing coefficients of n and constants.\n",
    "\n",
    "Coefficient of n:\n",
    "C = 7*C + 3  →  -6*C = 3  →  C = -1/2\n",
    "\n",
    "Constant term:\n",
    "D = -13*C + 7*D  →  -6*D = -13*C  →  D = (13*C)/6 = -13/12\n",
    "\n",
    "So:\n",
    "a_p(n) = -0.5*n - 13/12\n",
    "\n",
    "Step 7: Combine both parts\n",
    "a(n) = A*(3^n) + B*((-2)^n) - 0.5*n - 13/12\n",
    "\n",
    "Step 8: Use initial values to find A and B\n",
    "For n=0:  \n",
    "1 = A + B - 13/12  →  A + B = 25/12\n",
    "\n",
    "For n=1:  \n",
    "1 = 3*A - 2*B - 0.5 - 13/12  \n",
    "Simplify → 3A - 2B = 31/12\n",
    "\n",
    "Solve:\n",
    "A ≈ 1.35  \n",
    "B ≈ 0.73\n",
    "\n",
    "Final analytic formula:\n",
    "a(n) = 1.35*(3^n) + 0.73*((-2)^n) - 0.5*n - 1.083\n"
   ]
  },
  {
   "cell_type": "markdown",
   "id": "7f62eb46-2103-4026-ac09-115540db361c",
   "metadata": {},
   "source": [
    "# Question 2 – Dynamic Programming Solution\n",
    "We use the recurrence:\n",
    "a(n) = a(n-1) + 6*a(n-2) + 3*n  \n",
    "a(0) = 1, a(1) = 1\n",
    "Dynamic Programming means we build the sequence step by step,\n",
    "storing already computed values to avoid repeating calculations.\n",
    "\n",
    "We will use a simple list to store previous results.\n"
   ]
  },
  {
   "cell_type": "code",
   "execution_count": 2,
   "id": "becebf7c-6ed7-4354-847a-36bcbca16e82",
   "metadata": {},
   "outputs": [
    {
     "name": "stdout",
     "output_type": "stream",
     "text": [
      "a[0] = 1\n",
      "a[1] = 1\n",
      "a[2] = 13\n",
      "a[3] = 28\n",
      "a[4] = 118\n",
      "a[5] = 301\n"
     ]
    }
   ],
   "source": [
    "def seq_dynamic(n):\n",
    "    a = [0]*(n+1)\n",
    "    a[0] = 1\n",
    "    if n > 0:\n",
    "        a[1] = 1\n",
    "    \n",
    "    for i in range(2, n+1):\n",
    "        a[i] = a[i-1] + 6*a[i-2] + 3*i\n",
    "    return a[n]\n",
    "\n",
    "# Test first few terms\n",
    "for i in range(6):\n",
    "    print(f\"a[{i}] = {seq_dynamic(i)}\")\n"
   ]
  },
  {
   "cell_type": "markdown",
   "id": "72abdfdb-5263-48b8-81ac-32eef825e364",
   "metadata": {},
   "source": [
    "Qn 3\n",
    "\n",
    "Memoization means storing results in a dictionary\n",
    "so we don't recompute the same subproblem many times.\n",
    "\n",
    "We use recursion, but every result is saved (cached).\n"
   ]
  },
  {
   "cell_type": "code",
   "execution_count": 4,
   "id": "3d3b4035-7ead-46d0-84f1-2c4bbb4065ed",
   "metadata": {},
   "outputs": [
    {
     "name": "stdout",
     "output_type": "stream",
     "text": [
      "a[0] = 1\n",
      "a[1] = 1\n",
      "a[2] = 13\n",
      "a[3] = 28\n",
      "a[4] = 118\n",
      "a[5] = 301\n"
     ]
    }
   ],
   "source": [
    "def amemo(n):\n",
    "  if n == 0:\n",
    "    return 1\n",
    "  elif n == 1:\n",
    "    return 1\n",
    "  else:\n",
    "    l = [0] * (n + 1)\n",
    "    l[0] = 1\n",
    "    l[1] = 1\n",
    "    for i in range(2, n + 1):\n",
    "      l[i] = l[i-1] + 6*l[i-2] + 3*i\n",
    "    return l[-1]\n",
    "\n",
    "# Test\n",
    "for i in range(6):\n",
    "  print(f\"a[{i}] = {amemo(i)}\")\n"
   ]
  },
  {
   "cell_type": "markdown",
   "id": "19d3b57e-160b-45a8-bda5-b31a9b9b1552",
   "metadata": {},
   "source": [
    "Qn 4.\n",
    "We have solved the recurrence relation:\n",
    "a(n) = a(n-1) + 6*a(n-2) + 3*n\n",
    "using three methods:\n",
    "\n",
    "1. Analytic (Mathematical formula)\n",
    "2. Dynamic Programming\n",
    "3. Memoization\n",
    "\n",
    "Let's compare them based on how easy they are to use,\n",
    "how fast they are, and how much memory they take.\n"
   ]
  },
  {
   "cell_type": "code",
   "execution_count": 22,
   "id": "bf9dddc9-6078-46e5-b447-2661a66bd63b",
   "metadata": {},
   "outputs": [
    {
     "name": "stdout",
     "output_type": "stream",
     "text": [
      "Comparison for small n (0 to 5):\n",
      "n      Analytic     DP       Memo    \n",
      "0      1.00         1        1       \n",
      "1      1.01         1        1       \n",
      "2      12.99        13       13      \n",
      "3      28.03        28       28      \n",
      "4      117.95       118      118     \n",
      "5      301.11       301      301     \n",
      "\n",
      "Comparison for large n = 1000:\n",
      "Method                    Result                                             Avg Time (sec)\n",
      "Dynamic Programming       17847956...77797376 (478 digits)                   0.00098967\n",
      "Memoization               17847956...77797376 (478 digits)                   0.00114285\n"
     ]
    }
   ],
   "source": [
    "import time\n",
    "\n",
    "# Dynamic Programming\n",
    "def a_dynamic(n):\n",
    "    if n == 0: return 1\n",
    "    if n == 1: return 1\n",
    "    a = [0]*(n+1)\n",
    "    a[0], a[1] = 1, 1\n",
    "    for i in range(2, n+1):\n",
    "        a[i] = a[i-1] + 6*a[i-2] + 3*i\n",
    "    return a[-1]\n",
    "\n",
    "# Memoization (bottom-up)\n",
    "def a_memo(n):\n",
    "    if n == 0: return 1\n",
    "    if n == 1: return 1\n",
    "    l = [0]*(n+1)\n",
    "    l[0], l[1] = 1, 1\n",
    "    for i in range(2,n+1):\n",
    "        l[i] = l[i-1] + 6*l[i-2] + 3*i\n",
    "    return l[-1]\n",
    "print(\"Comparison for small n (0 to 5):\")\n",
    "print(\"{:<6} {:<12} {:<8} {:<8}\".format(\"n\", \"Analytic\", \"DP\", \"Memo\"))\n",
    "for i in range(6):\n",
    "    analytic = 1.35*(3**i) + 0.73*((-2)**i) - 0.5*i - 1.083\n",
    "    print(\"{:<6} {:<12.2f} {:<8} {:<8}\".format(i, analytic, a_dynamic(i), a_memo(i)))\n",
    "n = 1000\n",
    "runs = 100  # run multiple times to get average\n",
    "\n",
    "def avg_time(func):\n",
    "    start = time.perf_counter()\n",
    "    for _ in range(runs):\n",
    "        func(n)\n",
    "    return (time.perf_counter() - start) / runs\n",
    "dp_time = avg_time(a_dynamic)\n",
    "memo_time = avg_time(a_memo)\n",
    "\n",
    "dp_result = a_dynamic(n)\n",
    "memo_result = a_memo(n)\n",
    "dp_str, memo_str = str(dp_result), str(memo_result)\n",
    "\n",
    "def short_num(num_str):\n",
    "    return f\"{num_str[:8]}...{num_str[-8:]} ({len(num_str)} digits)\"\n",
    "\n",
    "print(f\"\\nComparison for large n = {n}:\")\n",
    "print(\"{:<25} {:<50} {:<10}\".format(\"Method\", \"Result\", \"Avg Time (sec)\"))\n",
    "print(\"{:<25} {:<50} {:<10.8f}\".format(\"Dynamic Programming\", short_num(dp_str), dp_time))\n",
    "print(\"{:<25} {:<50} {:<10.8f}\".format(\"Memoization\", short_num(memo_str), memo_time))\n",
    "\n"
   ]
  },
  {
   "cell_type": "code",
   "execution_count": null,
   "id": "4e9fea99-4d84-4713-b30f-0b5be9af9a1c",
   "metadata": {},
   "outputs": [],
   "source": []
  }
 ],
 "metadata": {
  "kernelspec": {
   "display_name": "Python [conda env:base] *",
   "language": "python",
   "name": "conda-base-py"
  },
  "language_info": {
   "codemirror_mode": {
    "name": "ipython",
    "version": 3
   },
   "file_extension": ".py",
   "mimetype": "text/x-python",
   "name": "python",
   "nbconvert_exporter": "python",
   "pygments_lexer": "ipython3",
   "version": "3.12.7"
  }
 },
 "nbformat": 4,
 "nbformat_minor": 5
}
